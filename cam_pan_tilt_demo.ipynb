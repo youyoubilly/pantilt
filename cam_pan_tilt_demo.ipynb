{
 "cells": [
  {
   "cell_type": "markdown",
   "metadata": {},
   "source": [
    "# Camera Pan Tilt"
   ]
  },
  {
   "cell_type": "markdown",
   "metadata": {},
   "source": [
    "## 1. Camare Streaming On"
   ]
  },
  {
   "cell_type": "code",
   "execution_count": null,
   "metadata": {},
   "outputs": [],
   "source": [
    "import traitlets\n",
    "import ipywidgets.widgets as widgets\n",
    "import time\n",
    "import numpy as np\n",
    "\n",
    "from bcam.bcam import Camera, frame_dp, bgr8_to_jpeg"
   ]
  },
  {
   "cell_type": "code",
   "execution_count": null,
   "metadata": {},
   "outputs": [],
   "source": [
    "width_cap = 800\n",
    "height_cap = 600\n",
    "fps_cap = 4\n",
    "\n",
    "resize = 1\n",
    "\n",
    "width_dp = width_cap * resize\n",
    "height_dp = height_cap * resize"
   ]
  },
  {
   "cell_type": "code",
   "execution_count": null,
   "metadata": {},
   "outputs": [],
   "source": [
    "camera = Camera(width=width_cap, height=height_cap, fps=fps_cap, is_usb=False, flip=2)\n",
    "\n",
    "image_widget = widgets.Image(format='jpeg', width=width_dp, height=height_dp)\n",
    "\n",
    "camera_link = traitlets.dlink((camera, 'value'), (image_widget, 'value'), transform=frame_dp)"
   ]
  },
  {
   "cell_type": "code",
   "execution_count": null,
   "metadata": {},
   "outputs": [],
   "source": [
    "display(image_widget)"
   ]
  },
  {
   "cell_type": "markdown",
   "metadata": {},
   "source": [
    "## 2. Activate Pan Tilt"
   ]
  },
  {
   "cell_type": "code",
   "execution_count": null,
   "metadata": {},
   "outputs": [],
   "source": [
    "from utils.servoctrl import PanTilt\n",
    "pt = PanTilt(bus=0)\n",
    "pt.add_rl_servo(channel=14, max_angle=180, min_angle=0)\n",
    "pt.add_ud_servo(channel=15, max_angle=180, min_angle=0)"
   ]
  },
  {
   "cell_type": "markdown",
   "metadata": {},
   "source": [
    "## 3. Add Widgets for Control Pan Tilt"
   ]
  },
  {
   "cell_type": "markdown",
   "metadata": {},
   "source": [
    "### 1) Buttons Widgets"
   ]
  },
  {
   "cell_type": "code",
   "execution_count": null,
   "metadata": {},
   "outputs": [],
   "source": [
    "import ipywidgets.widgets as widgets\n",
    "from ipywidgets import Button, HBox, VBox\n",
    "\n",
    "button_layout = widgets.Layout(width='100px', height='80px', align_self='center')\n",
    "\n",
    "step_move = ['↖', '↑', '↗', '←', 'reset', '→', '↙', '↓', '↘']\n",
    "step_items = [Button(description=i, layout=button_layout) for i in step_move]\n",
    "\n",
    "far_move = ['◤', '▲', '◥', '◄', 'reset', '►', '◣', '▼', '◢']\n",
    "far_items = [Button(description=i, layout=button_layout) for i in far_move]\n",
    "\n",
    "#'success', 'info', 'warning', 'danger' or ''\n",
    "#step_items[4].button_style='info'\n",
    "#far_items[4].button_style='info'\n",
    "\n",
    "row1 = HBox([step_items[0], step_items[1], step_items[2]])\n",
    "row2 = HBox([step_items[3], step_items[4], step_items[5]])\n",
    "row3 = HBox([step_items[6], step_items[7], step_items[8]])\n",
    "com_a = VBox([row1, row2, row3])\n",
    "\n",
    "row4 = HBox([far_items[0], far_items[1], far_items[2]])\n",
    "row5 = HBox([far_items[3], far_items[4], far_items[5]])\n",
    "row6 = HBox([far_items[6], far_items[7], far_items[8]])\n",
    "com_b = VBox([row4, row5, row6])"
   ]
  },
  {
   "cell_type": "code",
   "execution_count": null,
   "metadata": {},
   "outputs": [],
   "source": [
    "display(widgets.HBox([com_a, com_b]))"
   ]
  },
  {
   "cell_type": "markdown",
   "metadata": {},
   "source": [
    "##### --- Link Buttons Widgets to Actions"
   ]
  },
  {
   "cell_type": "code",
   "execution_count": null,
   "metadata": {},
   "outputs": [],
   "source": [
    "#step: '↖', '↑', '↗', '←', 'reset', '→', '↙', '↓', '↘'\n",
    "step_items[0].on_click(lambda x: pt.go_up_left())\n",
    "step_items[1].on_click(lambda x: pt.go_up())\n",
    "step_items[2].on_click(lambda x: pt.go_up_right())\n",
    "step_items[3].on_click(lambda x: pt.go_left())\n",
    "step_items[4].on_click(lambda x: pt.reset())\n",
    "step_items[5].on_click(lambda x: pt.go_right())\n",
    "step_items[6].on_click(lambda x: pt.go_down_left())\n",
    "step_items[7].on_click(lambda x: pt.go_down() )\n",
    "step_items[8].on_click(lambda x: pt.go_down_right())\n",
    "\n",
    "#far: '◤', '▲', '◥', '◄', 'reset', '►', '◣', '▼', '◢'\n",
    "far_items[0].on_click(lambda x: pt.upper_left())\n",
    "far_items[1].on_click(lambda x: pt.far_up())\n",
    "far_items[2].on_click(lambda x: pt.upper_right())\n",
    "far_items[3].on_click(lambda x: pt.far_left())\n",
    "far_items[4].on_click(lambda x: pt.reset())\n",
    "far_items[5].on_click(lambda x: pt.far_right())\n",
    "far_items[6].on_click(lambda x: pt.lower_left())\n",
    "far_items[7].on_click(lambda x: pt.far_down() )\n",
    "far_items[8].on_click(lambda x: pt.lower_right())\n",
    "\n",
    "# attach the callbacks, we use a 'lambda' function to ignore the\n",
    "# parameter that the on_click event would provide to our function\n",
    "# because we don't need it."
   ]
  },
  {
   "cell_type": "markdown",
   "metadata": {},
   "source": [
    "### 2) Slider Widgets"
   ]
  },
  {
   "cell_type": "code",
   "execution_count": null,
   "metadata": {},
   "outputs": [],
   "source": [
    "rl_slider = widgets.FloatSlider(min=-1, max=1, value=0, step=0.02, description='rl')\n",
    "\n",
    "def rl_val(val):\n",
    "    return int((val * (pt.rl.max_angle - pt.rl.min_angle) + pt.rl.max_angle + pt.rl.min_angle) / 2)\n",
    "\n",
    "def rl_move1(change):\n",
    "    val = change['new']\n",
    "    pt.to_angle(rl=rl_val(val))\n",
    "    \n",
    "rl_slider.observe(rl_move1, names=['value'])"
   ]
  },
  {
   "cell_type": "code",
   "execution_count": null,
   "metadata": {},
   "outputs": [],
   "source": [
    "ud_slider = widgets.FloatSlider(min=-1, max=1, value=0, step=0.02, description='ud')\n",
    "\n",
    "def ud_val(val):\n",
    "    return int((val * (pt.rl.max_angle - pt.rl.min_angle) + pt.rl.max_angle + pt.rl.min_angle) / 2)\n",
    "\n",
    "def ud_move1(change):\n",
    "    val = change['new']\n",
    "    pt.to_angle(ud=ud_val(val))\n",
    "    \n",
    "ud_slider.observe(ud_move1, names=['value'])"
   ]
  },
  {
   "cell_type": "code",
   "execution_count": null,
   "metadata": {},
   "outputs": [],
   "source": [
    "display(rl_slider, ud_slider)"
   ]
  },
  {
   "cell_type": "markdown",
   "metadata": {},
   "source": [
    "### 3) Text Widgets"
   ]
  },
  {
   "cell_type": "code",
   "execution_count": null,
   "metadata": {},
   "outputs": [],
   "source": [
    "rl_textbox = widgets.IntText(layout=widgets.Layout(width='148px'), value=180, description='rl:')\n",
    "\n",
    "def rl_move2(change):\n",
    "    val = change['new']\n",
    "    pt.to_angle(rl=val)\n",
    "    \n",
    "rl_textbox.observe(rl_move2, names=['value'])"
   ]
  },
  {
   "cell_type": "code",
   "execution_count": null,
   "metadata": {},
   "outputs": [],
   "source": [
    "ud_textbox = widgets.IntText(layout=widgets.Layout(width='148px'), value=180, description='ud:')\n",
    "\n",
    "def ud_move2(change):\n",
    "    val = change['new']\n",
    "    pt.to_angle(ud=val)\n",
    "    \n",
    "ud_textbox.observe(ud_move2, names=['value'])"
   ]
  },
  {
   "cell_type": "code",
   "execution_count": null,
   "metadata": {},
   "outputs": [],
   "source": [
    "display(HBox([rl_textbox, ud_textbox]))"
   ]
  },
  {
   "cell_type": "markdown",
   "metadata": {},
   "source": [
    "### 4) Functions: Snapshot, Save Reset, Read Position"
   ]
  },
  {
   "cell_type": "code",
   "execution_count": null,
   "metadata": {},
   "outputs": [],
   "source": [
    "import ipywidgets.widgets as widgets\n",
    "from ipywidgets import Button, HBox, VBox\n",
    "\n",
    "button_layout = widgets.Layout(width='100px', height='80px', align_self='center')\n",
    "\n",
    "func_act = ['snapshot', 'save reset', 'position']\n",
    "func_items = [Button(description=i, layout=button_layout) for i in func_act]\n",
    "\n",
    "func_items[0].button_style='warning'\n",
    "func_items[1].button_style='info'\n",
    "func_items[2].button_style=''\n",
    "\n",
    "func_box = VBox([func_items[0], func_items[1], func_items[2]])"
   ]
  },
  {
   "cell_type": "markdown",
   "metadata": {},
   "source": [
    "#### -- Snapshot"
   ]
  },
  {
   "cell_type": "code",
   "execution_count": null,
   "metadata": {},
   "outputs": [],
   "source": [
    "import os\n",
    "\n",
    "snap_dir = 'snap'\n",
    "\n",
    "# we have this \"try/except\" statement because these next functions can throw an error if the directories exist already\n",
    "try:\n",
    "    os.makedirs(snap_dir)\n",
    "except FileExistsError:\n",
    "    print('Directories not created becasue they already exist')"
   ]
  },
  {
   "cell_type": "code",
   "execution_count": null,
   "metadata": {},
   "outputs": [],
   "source": [
    "snap_count = widgets.IntText(description='count:', layout=widgets.Layout(width='140px'), value=len(os.listdir(snap_dir)))\n",
    "\n",
    "def save_snap():\n",
    "    localtime = time.strftime(\"%Y%m%d_%H%M%S\", time.localtime())\n",
    "    image_path = os.path.join(snap_dir, localtime + '.jpg')\n",
    "    with open(image_path, 'wb') as f:\n",
    "        f.write(image_widget.value)\n",
    "    snap_count.value = len(os.listdir(snap_dir))\n",
    "    \n",
    "func_items[0].on_click(lambda x: save_snap())"
   ]
  },
  {
   "cell_type": "code",
   "execution_count": null,
   "metadata": {},
   "outputs": [],
   "source": [
    "display(func_items[0], snap_count)"
   ]
  },
  {
   "cell_type": "markdown",
   "metadata": {},
   "source": [
    "#### -- Save Reset"
   ]
  },
  {
   "cell_type": "code",
   "execution_count": null,
   "metadata": {},
   "outputs": [],
   "source": [
    "func_items[1].on_click(lambda x: pt.change_reset())\n",
    "display(func_items[1])"
   ]
  },
  {
   "cell_type": "markdown",
   "metadata": {},
   "source": [
    "#### -- Read Position"
   ]
  },
  {
   "cell_type": "code",
   "execution_count": null,
   "metadata": {},
   "outputs": [],
   "source": [
    "text_widget = widgets.Text(layout=widgets.Layout(width='220px'), value=\"\", description='Position:')\n",
    "\n",
    "def read_pos():\n",
    "    pos = 'rl: {}   |   ud: {}'.format(pt.read()[0], pt.read()[1])\n",
    "    text_widget.value = pos\n",
    "    \n",
    "func_items[2].on_click(lambda x: read_pos())"
   ]
  },
  {
   "cell_type": "code",
   "execution_count": null,
   "metadata": {},
   "outputs": [],
   "source": [
    "display(func_items[2], text_widget)"
   ]
  },
  {
   "cell_type": "markdown",
   "metadata": {},
   "source": [
    "## Control Interface"
   ]
  },
  {
   "cell_type": "code",
   "execution_count": null,
   "metadata": {},
   "outputs": [],
   "source": [
    "widgets_set1 = HBox([com_a, func_box, com_b])\n",
    "widgets_set2 = VBox([text_widget, HBox([rl_textbox, ud_textbox, snap_count])])\n",
    "widgets_set3 = HBox([VBox([rl_slider, ud_slider]), widgets_set2])"
   ]
  },
  {
   "cell_type": "code",
   "execution_count": null,
   "metadata": {},
   "outputs": [],
   "source": [
    "display(image_widget, widgets_set3, widgets_set1)"
   ]
  },
  {
   "cell_type": "markdown",
   "metadata": {},
   "source": [
    "## 4. Add PS4 Joystick for Control Pan Tilt"
   ]
  },
  {
   "cell_type": "code",
   "execution_count": null,
   "metadata": {},
   "outputs": [],
   "source": [
    "controller = widgets.Controller(index=0)  # replace with index of your controller\n",
    "display(controller)"
   ]
  },
  {
   "cell_type": "code",
   "execution_count": null,
   "metadata": {},
   "outputs": [],
   "source": [
    "controller.buttons[12].observe(lambda x: pt.go_up(), names='value') # Up\n",
    "controller.buttons[13].observe(lambda x: pt.go_down(), names='value') # Down\n",
    "controller.buttons[14].observe(lambda x: pt.go_left(), names='value') # Left\n",
    "controller.buttons[15].observe(lambda x: pt.go_right(), names='value') # Right\n",
    "\n",
    "controller.buttons[3].observe(lambda x: pt.far_up(), names='value') # Far Up\n",
    "controller.buttons[0].observe(lambda x: pt.far_down(), names='value') # Far Down\n",
    "controller.buttons[2].observe(lambda x: pt.far_left(), names='value') # Far Left\n",
    "controller.buttons[1].observe(lambda x: pt.far_right(), names='value') # Far Right\n",
    "\n",
    "controller.buttons[8].observe(lambda x: pt.reset(), names='value')\n",
    "controller.buttons[9].observe(lambda x: pt.change_reset(), names='value')\n",
    "\n",
    "controller.buttons[5].observe(lambda x: save_snap(), names='value')\n",
    "\n",
    "controller.axes[0].observe(rl_move1, names=['value'])\n",
    "controller.axes[3].observe(ud_move1, names=['value'])"
   ]
  }
 ],
 "metadata": {
  "kernelspec": {
   "display_name": "Python 3",
   "language": "python",
   "name": "python3"
  },
  "language_info": {
   "codemirror_mode": {
    "name": "ipython",
    "version": 3
   },
   "file_extension": ".py",
   "mimetype": "text/x-python",
   "name": "python",
   "nbconvert_exporter": "python",
   "pygments_lexer": "ipython3",
   "version": "3.6.9"
  },
  "toc-autonumbering": false
 },
 "nbformat": 4,
 "nbformat_minor": 4
}
